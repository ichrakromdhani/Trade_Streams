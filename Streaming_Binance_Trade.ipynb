{
  "nbformat": 4,
  "nbformat_minor": 0,
  "metadata": {
    "colab": {
      "name": "Streaming Binance.ipynb",
      "provenance": []
    },
    "kernelspec": {
      "name": "python3",
      "display_name": "Python 3"
    }
  },
  "cells": [
    {
      "cell_type": "markdown",
      "metadata": {
        "id": "PxGPRMuvofrU"
      },
      "source": [
        "# 1) Installation de la bibliothèque binance"
      ]
    },
    {
      "cell_type": "code",
      "metadata": {
        "id": "OsI673iPoZEB"
      },
      "source": [
        "#pip install python-binance"
      ],
      "execution_count": null,
      "outputs": []
    },
    {
      "cell_type": "markdown",
      "metadata": {
        "id": "6vOwd6DwosQG"
      },
      "source": [
        "# 2) Aggregate trade BTC/USDT streams"
      ]
    },
    {
      "cell_type": "code",
      "metadata": {
        "id": "_qZlzvS_okhh",
        "colab": {
          "base_uri": "https://localhost:8080/",
          "height": 700
        },
        "outputId": "d6f94034-43ab-476f-f35d-37ba76a79a6c"
      },
      "source": [
        "import time\n",
        "from binance.client import Client # Import the Binance Client\n",
        "from binance.websockets import BinanceSocketManager # Import the Binance Socket Manager\n",
        "\n",
        "PUBLIC = 'public key'\n",
        "SECRET = 'secret key'\n",
        "\n",
        "\n",
        "# Instantiate a Client \n",
        "client = Client(api_key=PUBLIC, api_secret=SECRET)\n",
        "\n",
        "# Instantiate a BinanceSocketManager, passing in the client that you instantiated\n",
        "bm = BinanceSocketManager(client)\n",
        "\n",
        "# This is our callback function. For now, it just prints messages as they come.\n",
        "def handle_message(msg):\n",
        "    print(msg)\n",
        "   \n",
        "\n",
        "# Start aggregate trade socket with 'BTCUSDT' and use handle_message to.. handle the message.\n",
        "#The Aggregate Trade Streams push trade information that is aggregated for a single taker order.\n",
        "conn_key = bm.start_aggtrade_socket('BTCUSDT', handle_message)\n",
        "# then start the socket manager\n",
        "bm.start()\n",
        "\n",
        "# let some data flow..\n",
        "time.sleep(10)\n",
        "\n",
        "# stop the socket manager\n",
        "bm.stop_socket(conn_key)"
      ],
      "execution_count": null,
      "outputs": [
        {
          "output_type": "stream",
          "text": [
            "{'e': 'aggTrade', 'E': 1594332765507, 's': 'BTCUSDT', 'a': 324196547, 'p': '9235.03000000', 'q': '0.00500000', 'f': 352902690, 'l': 352902690, 'T': 1594332765506, 'm': True, 'M': True}\n",
            "{'e': 'aggTrade', 'E': 1594332765507, 's': 'BTCUSDT', 'a': 324196548, 'p': '9234.50000000', 'q': '0.00217400', 'f': 352902691, 'l': 352902691, 'T': 1594332765506, 'm': True, 'M': True}\n",
            "{'e': 'aggTrade', 'E': 1594332765822, 's': 'BTCUSDT', 'a': 324196549, 'p': '9234.32000000', 'q': '0.02258800', 'f': 352902692, 'l': 352902692, 'T': 1594332765821, 'm': False, 'M': True}\n",
            "{'e': 'aggTrade', 'E': 1594332766289, 's': 'BTCUSDT', 'a': 324196550, 'p': '9234.46000000', 'q': '0.00149300', 'f': 352902693, 'l': 352902693, 'T': 1594332766288, 'm': True, 'M': True}\n",
            "{'e': 'aggTrade', 'E': 1594332766319, 's': 'BTCUSDT', 'a': 324196551, 'p': '9234.46000000', 'q': '0.00149300', 'f': 352902694, 'l': 352902694, 'T': 1594332766318, 'm': True, 'M': True}\n",
            "{'e': 'aggTrade', 'E': 1594332766372, 's': 'BTCUSDT', 'a': 324196552, 'p': '9234.46000000', 'q': '0.00769000', 'f': 352902695, 'l': 352902695, 'T': 1594332766371, 'm': True, 'M': True}\n",
            "{'e': 'aggTrade', 'E': 1594332766725, 's': 'BTCUSDT', 'a': 324196553, 'p': '9234.46000000', 'q': '5.25657700', 'f': 352902696, 'l': 352902698, 'T': 1594332766724, 'm': True, 'M': True}\n",
            "{'e': 'aggTrade', 'E': 1594332767154, 's': 'BTCUSDT', 'a': 324196554, 'p': '9234.31000000', 'q': '0.00120000', 'f': 352902699, 'l': 352902699, 'T': 1594332767151, 'm': True, 'M': True}\n",
            "{'e': 'aggTrade', 'E': 1594332767154, 's': 'BTCUSDT', 'a': 324196555, 'p': '9234.21000000', 'q': '0.01248400', 'f': 352902700, 'l': 352902700, 'T': 1594332767151, 'm': True, 'M': True}\n",
            "{'e': 'aggTrade', 'E': 1594332767326, 's': 'BTCUSDT', 'a': 324196556, 'p': '9234.29000000', 'q': '0.03692400', 'f': 352902701, 'l': 352902701, 'T': 1594332767325, 'm': False, 'M': True}\n",
            "{'e': 'aggTrade', 'E': 1594332767336, 's': 'BTCUSDT', 'a': 324196557, 'p': '9234.28000000', 'q': '0.00206200', 'f': 352902702, 'l': 352902702, 'T': 1594332767335, 'm': True, 'M': True}\n",
            "{'e': 'aggTrade', 'E': 1594332767348, 's': 'BTCUSDT', 'a': 324196558, 'p': '9234.28000000', 'q': '0.00206200', 'f': 352902703, 'l': 352902703, 'T': 1594332767347, 'm': True, 'M': True}\n",
            "{'e': 'aggTrade', 'E': 1594332768375, 's': 'BTCUSDT', 'a': 324196559, 'p': '9234.47000000', 'q': '0.00303600', 'f': 352902704, 'l': 352902704, 'T': 1594332768374, 'm': False, 'M': True}\n",
            "{'e': 'aggTrade', 'E': 1594332769112, 's': 'BTCUSDT', 'a': 324196560, 'p': '9234.47000000', 'q': '0.00669300', 'f': 352902705, 'l': 352902705, 'T': 1594332769111, 'm': False, 'M': True}\n",
            "{'e': 'aggTrade', 'E': 1594332769434, 's': 'BTCUSDT', 'a': 324196561, 'p': '9234.47000000', 'q': '0.00526600', 'f': 352902706, 'l': 352902706, 'T': 1594332769433, 'm': False, 'M': True}\n",
            "{'e': 'aggTrade', 'E': 1594332770371, 's': 'BTCUSDT', 'a': 324196562, 'p': '9234.46000000', 'q': '0.00321700', 'f': 352902707, 'l': 352902707, 'T': 1594332770369, 'm': True, 'M': True}\n",
            "{'e': 'aggTrade', 'E': 1594332770753, 's': 'BTCUSDT', 'a': 324196563, 'p': '9234.47000000', 'q': '0.00000500', 'f': 352902708, 'l': 352902708, 'T': 1594332770752, 'm': False, 'M': True}\n",
            "{'e': 'aggTrade', 'E': 1594332770875, 's': 'BTCUSDT', 'a': 324196564, 'p': '9234.53000000', 'q': '0.41834800', 'f': 352902709, 'l': 352902709, 'T': 1594332770874, 'm': True, 'M': True}\n",
            "{'e': 'aggTrade', 'E': 1594332771308, 's': 'BTCUSDT', 'a': 324196565, 'p': '9234.53000000', 'q': '0.00128400', 'f': 352902710, 'l': 352902711, 'T': 1594332771307, 'm': True, 'M': True}\n",
            "{'e': 'aggTrade', 'E': 1594332771311, 's': 'BTCUSDT', 'a': 324196566, 'p': '9234.53000000', 'q': '0.00128400', 'f': 352902712, 'l': 352902712, 'T': 1594332771310, 'm': True, 'M': True}\n",
            "{'e': 'aggTrade', 'E': 1594332771414, 's': 'BTCUSDT', 'a': 324196567, 'p': '9234.53000000', 'q': '0.00272400', 'f': 352902713, 'l': 352902713, 'T': 1594332771413, 'm': True, 'M': True}\n",
            "{'e': 'aggTrade', 'E': 1594332771750, 's': 'BTCUSDT', 'a': 324196568, 'p': '9234.53000000', 'q': '0.05049000', 'f': 352902714, 'l': 352902714, 'T': 1594332771749, 'm': True, 'M': True}\n",
            "{'e': 'aggTrade', 'E': 1594332771993, 's': 'BTCUSDT', 'a': 324196569, 'p': '9234.53000000', 'q': '0.38316700', 'f': 352902715, 'l': 352902717, 'T': 1594332771992, 'm': True, 'M': True}\n",
            "{'e': 'aggTrade', 'E': 1594332772163, 's': 'BTCUSDT', 'a': 324196570, 'p': '9234.47000000', 'q': '0.00745900', 'f': 352902718, 'l': 352902718, 'T': 1594332772162, 'm': True, 'M': True}\n",
            "{'e': 'aggTrade', 'E': 1594332772193, 's': 'BTCUSDT', 'a': 324196571, 'p': '9234.44000000', 'q': '0.23775100', 'f': 352902719, 'l': 352902719, 'T': 1594332772192, 'm': False, 'M': True}\n",
            "{'e': 'aggTrade', 'E': 1594332772363, 's': 'BTCUSDT', 'a': 324196572, 'p': '9234.32000000', 'q': '0.04838500', 'f': 352902720, 'l': 352902720, 'T': 1594332772362, 'm': True, 'M': True}\n",
            "{'e': 'aggTrade', 'E': 1594332772468, 's': 'BTCUSDT', 'a': 324196573, 'p': '9234.32000000', 'q': '0.05489100', 'f': 352902721, 'l': 352902721, 'T': 1594332772467, 'm': True, 'M': True}\n",
            "{'e': 'aggTrade', 'E': 1594332772564, 's': 'BTCUSDT', 'a': 324196574, 'p': '9234.32000000', 'q': '0.00676200', 'f': 352902722, 'l': 352902722, 'T': 1594332772563, 'm': True, 'M': True}\n",
            "{'e': 'aggTrade', 'E': 1594332773612, 's': 'BTCUSDT', 'a': 324196575, 'p': '9234.32000000', 'q': '0.01362000', 'f': 352902723, 'l': 352902723, 'T': 1594332773611, 'm': True, 'M': True}\n",
            "{'e': 'aggTrade', 'E': 1594332773754, 's': 'BTCUSDT', 'a': 324196576, 'p': '9234.32000000', 'q': '0.00732000', 'f': 352902724, 'l': 352902724, 'T': 1594332773753, 'm': True, 'M': True}\n",
            "{'e': 'aggTrade', 'E': 1594332774244, 's': 'BTCUSDT', 'a': 324196577, 'p': '9234.32000000', 'q': '0.19605400', 'f': 352902725, 'l': 352902726, 'T': 1594332774243, 'm': True, 'M': True}\n",
            "{'e': 'aggTrade', 'E': 1594332774574, 's': 'BTCUSDT', 'a': 324196578, 'p': '9234.13000000', 'q': '0.07737400', 'f': 352902727, 'l': 352902727, 'T': 1594332774573, 'm': True, 'M': True}\n",
            "{'e': 'aggTrade', 'E': 1594332774652, 's': 'BTCUSDT', 'a': 324196579, 'p': '9233.88000000', 'q': '0.01082700', 'f': 352902728, 'l': 352902728, 'T': 1594332774651, 'm': False, 'M': True}\n",
            "{'e': 'aggTrade', 'E': 1594332774688, 's': 'BTCUSDT', 'a': 324196580, 'p': '9233.84000000', 'q': '0.00718900', 'f': 352902729, 'l': 352902729, 'T': 1594332774687, 'm': True, 'M': True}\n",
            "{'e': 'aggTrade', 'E': 1594332774760, 's': 'BTCUSDT', 'a': 324196581, 'p': '9233.85000000', 'q': '0.00130600', 'f': 352902730, 'l': 352902730, 'T': 1594332774759, 'm': False, 'M': True}\n",
            "{'e': 'aggTrade', 'E': 1594332774807, 's': 'BTCUSDT', 'a': 324196582, 'p': '9233.84000000', 'q': '0.01999800', 'f': 352902731, 'l': 352902732, 'T': 1594332774805, 'm': True, 'M': True}\n",
            "{'e': 'aggTrade', 'E': 1594332774861, 's': 'BTCUSDT', 'a': 324196583, 'p': '9233.37000000', 'q': '0.01500000', 'f': 352902733, 'l': 352902733, 'T': 1594332774859, 'm': False, 'M': True}\n",
            "{'e': 'aggTrade', 'E': 1594332774975, 's': 'BTCUSDT', 'a': 324196584, 'p': '9233.36000000', 'q': '0.31053100', 'f': 352902734, 'l': 352902734, 'T': 1594332774974, 'm': False, 'M': True}\n",
            "{'e': 'aggTrade', 'E': 1594332775009, 's': 'BTCUSDT', 'a': 324196585, 'p': '9233.84000000', 'q': '0.01850800', 'f': 352902735, 'l': 352902735, 'T': 1594332775008, 'm': True, 'M': True}\n"
          ],
          "name": "stdout"
        }
      ]
    }
  ]
}