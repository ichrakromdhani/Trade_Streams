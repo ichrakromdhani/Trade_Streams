{
  "nbformat": 4,
  "nbformat_minor": 0,
  "metadata": {
    "colab": {
      "name": "Streaming Binance -optionnel-.ipynb",
      "provenance": [],
      "collapsed_sections": []
    },
    "kernelspec": {
      "name": "python3",
      "display_name": "Python 3"
    }
  },
  "cells": [
    {
      "cell_type": "markdown",
      "metadata": {
        "id": "BZ4fXnF9lny6"
      },
      "source": [
        "# 1) Installation de la bibliothèque python-binance"
      ]
    },
    {
      "cell_type": "code",
      "metadata": {
        "id": "VwS8oAOWkRTZ"
      },
      "source": [
        "#pip install python-binance"
      ],
      "execution_count": null,
      "outputs": []
    },
    {
      "cell_type": "markdown",
      "metadata": {
        "id": "sRTKjEn_l6kB"
      },
      "source": [
        "# 2) Personaliser la fonction de callBack \"handle_message()\""
      ]
    },
    {
      "cell_type": "markdown",
      "metadata": {
        "id": "1zGs5d8Xqb09"
      },
      "source": [
        "- Rendre le format de date plus lisible.\n",
        "- Afficher que les attributs importants du Payload et les rendres explicites"
      ]
    },
    {
      "cell_type": "code",
      "metadata": {
        "id": "2GEoiWo_kSkc"
      },
      "source": [
        "from datetime import datetime\n",
        "\n",
        "def handle_message(msg):\n",
        "    \n",
        "    if msg['e'] == 'error':    \n",
        "        print(msg['m'])\n",
        "        \n",
        "    else:\n",
        "       \n",
        "        \n",
        "        # Make time pretty\n",
        "        timestamp = msg['T'] / 1000\n",
        "        timestamp = datetime.fromtimestamp(timestamp).strftime('%Y-%m-%d %H:%M:%S')\n",
        "        \n",
        "        \n",
        "        # Print this amount\n",
        "         \n",
        "        print(\"Time: {} Symbol: {} Price: {} Quantity: {} \".format(timestamp,\n",
        "                                                                   msg['s'],\n",
        "                                                                   msg['p'],\n",
        "                                                                   msg['q']))\n",
        "       "
      ],
      "execution_count": null,
      "outputs": []
    },
    {
      "cell_type": "markdown",
      "metadata": {
        "id": "SZbnqEximOhr"
      },
      "source": [
        "# 3) Aggregate trade BTC/USDT streams"
      ]
    },
    {
      "cell_type": "code",
      "metadata": {
        "id": "zdoVrjS-kkw5",
        "colab": {
          "base_uri": "https://localhost:8080/",
          "height": 391
        },
        "outputId": "c63d95e2-d869-40ea-c055-8121d0dc68f2"
      },
      "source": [
        "import time\n",
        "from binance.client import Client # Import the Binance Client\n",
        "from binance.websockets import BinanceSocketManager # Import the Binance Socket Manager\n",
        "\n",
        "\n",
        "PUBLIC = 'bJrYzIOevJKacoIYFmsl50WazhakXv9PF9MCaHGtjyo6vKrtj7PUniFFZ6VWMuBD'\n",
        "SECRET = 'QeyJuRDTBMq6PNdBxIhNdfc66dMkLXb17nXxOkGh1PflPu3Nyo3NeyYOh0dTpYPT'\n",
        "\n",
        "# Instantiate a Client \n",
        "client = Client(api_key=PUBLIC, api_secret=SECRET)\n",
        "\n",
        "# Instantiate a BinanceSocketManager, passing in the client that you instantiated\n",
        "bm = BinanceSocketManager(client)\n",
        "\n",
        "   \n",
        "\n",
        "# Start aggregate trade socket with 'BTCUSDT' and use handle_message to.. handle the message.\n",
        "#The Aggregate Trade Streams push trade information that is aggregated for a single taker order.\n",
        "conn_key = bm.start_aggtrade_socket('BTCUSDT', handle_message)\n",
        "# then start the socket manager\n",
        "bm.start()\n",
        "\n",
        "# let some data flow..\n",
        "time.sleep(10)\n",
        "\n",
        "# stop the socket manager\n",
        "bm.stop_socket(conn_key)"
      ],
      "execution_count": null,
      "outputs": [
        {
          "output_type": "stream",
          "text": [
            "Time: 2020-07-09 21:54:36 Symbol: BTCUSDT Price: 9246.28000000 Quantity: 0.00138800 \n",
            "Time: 2020-07-09 21:54:36 Symbol: BTCUSDT Price: 9246.29000000 Quantity: 0.00530400 \n",
            "Time: 2020-07-09 21:54:37 Symbol: BTCUSDT Price: 9246.28000000 Quantity: 0.02264000 \n",
            "Time: 2020-07-09 21:54:37 Symbol: BTCUSDT Price: 9246.28000000 Quantity: 0.06000000 \n",
            "Time: 2020-07-09 21:54:37 Symbol: BTCUSDT Price: 9246.28000000 Quantity: 0.14000000 \n",
            "Time: 2020-07-09 21:54:37 Symbol: BTCUSDT Price: 9246.28000000 Quantity: 0.05000000 \n",
            "Time: 2020-07-09 21:54:40 Symbol: BTCUSDT Price: 9246.28000000 Quantity: 0.02936200 \n",
            "Time: 2020-07-09 21:54:40 Symbol: BTCUSDT Price: 9246.15000000 Quantity: 0.02486500 \n",
            "Time: 2020-07-09 21:54:40 Symbol: BTCUSDT Price: 9246.15000000 Quantity: 0.00194000 \n",
            "Time: 2020-07-09 21:54:40 Symbol: BTCUSDT Price: 9246.16000000 Quantity: 0.00229700 \n",
            "Time: 2020-07-09 21:54:41 Symbol: BTCUSDT Price: 9246.15000000 Quantity: 0.01600000 \n",
            "Time: 2020-07-09 21:54:42 Symbol: BTCUSDT Price: 9246.15000000 Quantity: 0.03252800 \n",
            "Time: 2020-07-09 21:54:42 Symbol: BTCUSDT Price: 9246.15000000 Quantity: 0.00899700 \n",
            "Time: 2020-07-09 21:54:42 Symbol: BTCUSDT Price: 9246.15000000 Quantity: 0.00371300 \n",
            "Time: 2020-07-09 21:54:43 Symbol: BTCUSDT Price: 9246.16000000 Quantity: 0.00402900 \n",
            "Time: 2020-07-09 21:54:44 Symbol: BTCUSDT Price: 9246.16000000 Quantity: 0.00108200 \n",
            "Time: 2020-07-09 21:54:44 Symbol: BTCUSDT Price: 9246.15000000 Quantity: 0.05900000 \n",
            "Time: 2020-07-09 21:54:44 Symbol: BTCUSDT Price: 9246.15000000 Quantity: 0.04693500 \n",
            "Time: 2020-07-09 21:54:44 Symbol: BTCUSDT Price: 9246.15000000 Quantity: 0.01003600 \n",
            "Time: 2020-07-09 21:54:44 Symbol: BTCUSDT Price: 9246.15000000 Quantity: 0.00899500 \n",
            "Time: 2020-07-09 21:54:44 Symbol: BTCUSDT Price: 9246.15000000 Quantity: 0.00467400 \n",
            "Time: 2020-07-09 21:54:45 Symbol: BTCUSDT Price: 9246.15000000 Quantity: 0.03848000 \n"
          ],
          "name": "stdout"
        }
      ]
    },
    {
      "cell_type": "markdown",
      "metadata": {
        "id": "IhqsBzGotpss"
      },
      "source": [
        "**NB**: La fonction bm.start() exécute un seul thread à la fois, alors j'ai été obligé de répartir le travail sur deux notebooks  "
      ]
    }
  ]
}